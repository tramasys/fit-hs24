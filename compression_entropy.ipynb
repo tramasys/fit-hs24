{
 "cells": [
  {
   "metadata": {},
   "cell_type": "markdown",
   "source": [
    "# Compression and Entropy\n",
    "## Introduction\n",
    "In this notebook, we will explore how compression and entropy are related. We will use the `zlib` library to compress data using the LZ77 algorithm and calculate the entropy of the data. We will then compare the entropy of the data with the compression ratio achieved by the LZ77 algorithm to see if there is a correlation between the two.\n"
   ],
   "id": "16ec2b4fd1127001"
  },
  {
   "cell_type": "code",
   "id": "initial_id",
   "metadata": {
    "collapsed": true,
    "jupyter": {
     "is_executing": true
    }
   },
   "source": [
    "import math\n",
    "import zlib\n",
    "import lzma\n",
    "from collections import Counter\n",
    "from pathlib import Path\n",
    "\n",
    "import matplotlib.pyplot as plt\n",
    "import pandas as pd\n",
    "import seaborn as sns\n",
    "\n",
    "sns.set_theme(style=\"whitegrid\")\n"
   ],
   "outputs": [],
   "execution_count": null
  },
  {
   "metadata": {
    "ExecuteTime": {
     "end_time": "2024-11-27T11:12:38.032011Z",
     "start_time": "2024-11-27T11:12:38.016656Z"
    }
   },
   "cell_type": "code",
   "source": [
    "sample_dir = Path(\"samples/entropy\")\n",
    "files = [f for f in sample_dir.iterdir() if f.is_file()]\n",
    "\n",
    "\n",
    "def read_file_content(file_path: Path) -> bytes:\n",
    "    return file_path.read_bytes()"
   ],
   "id": "e540194768f26937",
   "outputs": [],
   "execution_count": 112
  },
  {
   "metadata": {
    "ExecuteTime": {
     "end_time": "2024-11-27T11:12:38.050823Z",
     "start_time": "2024-11-27T11:12:38.045625Z"
    }
   },
   "cell_type": "code",
   "source": [
    "# LZ77 compression\n",
    "def compress_lz77(data: bytes) -> bytes:\n",
    "    return zlib.compress(data)"
   ],
   "id": "c0dfe4b3804b8c34",
   "outputs": [],
   "execution_count": 113
  },
  {
   "metadata": {
    "ExecuteTime": {
     "end_time": "2024-11-27T11:12:38.066867Z",
     "start_time": "2024-11-27T11:12:38.062619Z"
    }
   },
   "cell_type": "code",
   "source": [
    "# LZMA compression\n",
    "def compress_lzma(data: bytes) -> bytes:\n",
    "    return lzma.compress(data)"
   ],
   "id": "9c48d367a843f2b6",
   "outputs": [],
   "execution_count": 114
  },
  {
   "metadata": {},
   "cell_type": "markdown",
   "source": [
    "### Shannon Entropy Formula\n",
    "\n",
    "The Shannon entropy formula is:\n",
    "\n",
    "$$\n",
    "H(X) = - \\sum_{i=1}^{n} p(x_i) \\cdot \\log_2(p(x_i))\n",
    "$$\n",
    "\n",
    "Where $p(x_i)$ is the probability of the $i$-th byte occurring in the data.\n"
   ],
   "id": "cb0e8591a6806979"
  },
  {
   "metadata": {
    "ExecuteTime": {
     "end_time": "2024-11-27T11:12:38.083549Z",
     "start_time": "2024-11-27T11:12:38.079025Z"
    }
   },
   "cell_type": "code",
   "source": [
    "def calculate_entropy(data: bytes) -> float:\n",
    "    # Count the frequency of each byte\n",
    "    byte_counts = Counter(data)\n",
    "    total_bytes = len(data)\n",
    "\n",
    "    entropy = 0\n",
    "    for count in byte_counts.values():\n",
    "        probability = count / total_bytes\n",
    "        entropy -= probability * math.log2(probability)\n",
    "\n",
    "    return entropy"
   ],
   "id": "c59c6144aca3f763",
   "outputs": [],
   "execution_count": 115
  },
  {
   "metadata": {
    "ExecuteTime": {
     "end_time": "2024-11-27T11:12:41.320040Z",
     "start_time": "2024-11-27T11:12:38.098507Z"
    }
   },
   "cell_type": "code",
   "source": [
    "results = []\n",
    "\n",
    "for file_path in files:\n",
    "    data = read_file_content(file_path)\n",
    "    original_size = len(data)\n",
    "    file_name = file_path.name\n",
    "    entropy = calculate_entropy(data)\n",
    "\n",
    "    algorithms = [\n",
    "        (\"LZ77\", compress_lz77),\n",
    "        (\"LZMA\", compress_lzma)\n",
    "    ]\n",
    "\n",
    "    for algorithm_name, compress_func in algorithms:\n",
    "        compressed_data = compress_func(data)\n",
    "        compressed_size = len(compressed_data)\n",
    "        compression_ratio = original_size / compressed_size\n",
    "\n",
    "        results.append({\n",
    "            \"file\": file_name,\n",
    "            \"algorithm\": algorithm_name,\n",
    "            \"original size (bytes)\": original_size,\n",
    "            \"compressed size (bytes)\": compressed_size,\n",
    "            \"compression ratio\": compression_ratio,\n",
    "            \"entropy (bits/symbol)\": entropy\n",
    "        })"
   ],
   "id": "243ff6020560565a",
   "outputs": [],
   "execution_count": 116
  },
  {
   "metadata": {
    "ExecuteTime": {
     "end_time": "2024-11-27T11:12:41.340826Z",
     "start_time": "2024-11-27T11:12:41.329928Z"
    }
   },
   "cell_type": "code",
   "source": [
    "df = pd.DataFrame(results)\n",
    "df"
   ],
   "id": "a815bee778426940",
   "outputs": [
    {
     "data": {
      "text/plain": [
       "                     file algorithm  original size (bytes)  \\\n",
       "0    file_000_entropy.txt      LZ77                 100000   \n",
       "1    file_000_entropy.txt      LZMA                 100000   \n",
       "2    file_001_entropy.txt      LZ77                 100000   \n",
       "3    file_001_entropy.txt      LZMA                 100000   \n",
       "4    file_002_entropy.txt      LZ77                 100000   \n",
       "..                    ...       ...                    ...   \n",
       "195  file_097_entropy.txt      LZMA                 100000   \n",
       "196  file_098_entropy.txt      LZ77                 100000   \n",
       "197  file_098_entropy.txt      LZMA                 100000   \n",
       "198  file_099_entropy.txt      LZ77                 100000   \n",
       "199  file_099_entropy.txt      LZMA                 100000   \n",
       "\n",
       "     compressed size (bytes)  compression ratio  entropy (bits/symbol)  \n",
       "0                      15994           6.252345               0.999997  \n",
       "1                      14212           7.036307               0.999997  \n",
       "2                      15953           6.268413               0.999968  \n",
       "3                      14224           7.030371               0.999968  \n",
       "4                      15998           6.250781               0.999997  \n",
       "..                       ...                ...                    ...  \n",
       "195                    99764           1.002366               7.856477  \n",
       "196                    99460           1.005429               7.923153  \n",
       "197                   100064           0.999360               7.923153  \n",
       "198                   100041           0.999590               7.997889  \n",
       "199                   100064           0.999360               7.997889  \n",
       "\n",
       "[200 rows x 6 columns]"
      ],
      "text/html": [
       "<div>\n",
       "<style scoped>\n",
       "    .dataframe tbody tr th:only-of-type {\n",
       "        vertical-align: middle;\n",
       "    }\n",
       "\n",
       "    .dataframe tbody tr th {\n",
       "        vertical-align: top;\n",
       "    }\n",
       "\n",
       "    .dataframe thead th {\n",
       "        text-align: right;\n",
       "    }\n",
       "</style>\n",
       "<table border=\"1\" class=\"dataframe\">\n",
       "  <thead>\n",
       "    <tr style=\"text-align: right;\">\n",
       "      <th></th>\n",
       "      <th>file</th>\n",
       "      <th>algorithm</th>\n",
       "      <th>original size (bytes)</th>\n",
       "      <th>compressed size (bytes)</th>\n",
       "      <th>compression ratio</th>\n",
       "      <th>entropy (bits/symbol)</th>\n",
       "    </tr>\n",
       "  </thead>\n",
       "  <tbody>\n",
       "    <tr>\n",
       "      <th>0</th>\n",
       "      <td>file_000_entropy.txt</td>\n",
       "      <td>LZ77</td>\n",
       "      <td>100000</td>\n",
       "      <td>15994</td>\n",
       "      <td>6.252345</td>\n",
       "      <td>0.999997</td>\n",
       "    </tr>\n",
       "    <tr>\n",
       "      <th>1</th>\n",
       "      <td>file_000_entropy.txt</td>\n",
       "      <td>LZMA</td>\n",
       "      <td>100000</td>\n",
       "      <td>14212</td>\n",
       "      <td>7.036307</td>\n",
       "      <td>0.999997</td>\n",
       "    </tr>\n",
       "    <tr>\n",
       "      <th>2</th>\n",
       "      <td>file_001_entropy.txt</td>\n",
       "      <td>LZ77</td>\n",
       "      <td>100000</td>\n",
       "      <td>15953</td>\n",
       "      <td>6.268413</td>\n",
       "      <td>0.999968</td>\n",
       "    </tr>\n",
       "    <tr>\n",
       "      <th>3</th>\n",
       "      <td>file_001_entropy.txt</td>\n",
       "      <td>LZMA</td>\n",
       "      <td>100000</td>\n",
       "      <td>14224</td>\n",
       "      <td>7.030371</td>\n",
       "      <td>0.999968</td>\n",
       "    </tr>\n",
       "    <tr>\n",
       "      <th>4</th>\n",
       "      <td>file_002_entropy.txt</td>\n",
       "      <td>LZ77</td>\n",
       "      <td>100000</td>\n",
       "      <td>15998</td>\n",
       "      <td>6.250781</td>\n",
       "      <td>0.999997</td>\n",
       "    </tr>\n",
       "    <tr>\n",
       "      <th>...</th>\n",
       "      <td>...</td>\n",
       "      <td>...</td>\n",
       "      <td>...</td>\n",
       "      <td>...</td>\n",
       "      <td>...</td>\n",
       "      <td>...</td>\n",
       "    </tr>\n",
       "    <tr>\n",
       "      <th>195</th>\n",
       "      <td>file_097_entropy.txt</td>\n",
       "      <td>LZMA</td>\n",
       "      <td>100000</td>\n",
       "      <td>99764</td>\n",
       "      <td>1.002366</td>\n",
       "      <td>7.856477</td>\n",
       "    </tr>\n",
       "    <tr>\n",
       "      <th>196</th>\n",
       "      <td>file_098_entropy.txt</td>\n",
       "      <td>LZ77</td>\n",
       "      <td>100000</td>\n",
       "      <td>99460</td>\n",
       "      <td>1.005429</td>\n",
       "      <td>7.923153</td>\n",
       "    </tr>\n",
       "    <tr>\n",
       "      <th>197</th>\n",
       "      <td>file_098_entropy.txt</td>\n",
       "      <td>LZMA</td>\n",
       "      <td>100000</td>\n",
       "      <td>100064</td>\n",
       "      <td>0.999360</td>\n",
       "      <td>7.923153</td>\n",
       "    </tr>\n",
       "    <tr>\n",
       "      <th>198</th>\n",
       "      <td>file_099_entropy.txt</td>\n",
       "      <td>LZ77</td>\n",
       "      <td>100000</td>\n",
       "      <td>100041</td>\n",
       "      <td>0.999590</td>\n",
       "      <td>7.997889</td>\n",
       "    </tr>\n",
       "    <tr>\n",
       "      <th>199</th>\n",
       "      <td>file_099_entropy.txt</td>\n",
       "      <td>LZMA</td>\n",
       "      <td>100000</td>\n",
       "      <td>100064</td>\n",
       "      <td>0.999360</td>\n",
       "      <td>7.997889</td>\n",
       "    </tr>\n",
       "  </tbody>\n",
       "</table>\n",
       "<p>200 rows × 6 columns</p>\n",
       "</div>"
      ]
     },
     "execution_count": 117,
     "metadata": {},
     "output_type": "execute_result"
    }
   ],
   "execution_count": 117
  },
  {
   "metadata": {
    "ExecuteTime": {
     "end_time": "2024-11-27T11:13:29.365918Z",
     "start_time": "2024-11-27T11:13:29.212514Z"
    }
   },
   "cell_type": "code",
   "source": [
    "plt.figure(figsize=(12, 6))\n",
    "sns.scatterplot(data=df, x=\"entropy (bits/symbol)\", hue=\"algorithm\", y=\"compression ratio\", s=100, legend=False)\n",
    "plt.title(\"Entropy vs. Compression Ratio\")\n",
    "plt.xlabel(\"Entropy (bits/symbol)\")\n",
    "plt.ylabel(\"Compression Ratio\")\n",
    "plt.tight_layout()\n",
    "plt.show()"
   ],
   "id": "e4d5d7a1d5f404b6",
   "outputs": [
    {
     "data": {
      "text/plain": [
       "<Figure size 1200x600 with 1 Axes>"
      ],
      "image/png": "[encoded data removed]"
     },
     "metadata": {},
     "output_type": "display_data"
    }
   ],
   "execution_count": 120
  },
  {
   "metadata": {},
   "cell_type": "markdown",
   "source": [
    "## Conclusion\n",
    "\n",
    "The scatter plot reveals a clear inverse relationship between entropy and compression ratio. This correlation aligns with information theory principles: higher entropy data, being more random, resists compression, while lower entropy data compresses more efficiently due to its predictability.\n",
    "\n",
    "The plot's curve suggests a non-linear relationship, specifically an exponential decay. This can be modeled by the equation:\n",
    "\n",
    "$$ y = a \\cdot b^x $$\n",
    "\n",
    "Where $y$ represents compression ratio, $x$ denotes entropy, and $a$ and $b$ are constants with $0 < b < 1$. This exponential decay model accurately captures the observed rapid decrease in compression ratio as entropy increases, reflecting the fundamental nature of data compressibility in relation to its information content."
   ],
   "id": "7ddc12eecd4db614"
  }
 ],
 "metadata": {
  "kernelspec": {
   "display_name": "Python 3",
   "language": "python",
   "name": "python3"
  },
  "language_info": {
   "codemirror_mode": {
    "name": "ipython",
    "version": 2
   },
   "file_extension": ".py",
   "mimetype": "text/x-python",
   "name": "python",
   "nbconvert_exporter": "python",
   "pygments_lexer": "ipython2",
   "version": "2.7.6"
  }
 },
 "nbformat": 4,
 "nbformat_minor": 5
}
