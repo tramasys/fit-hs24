{
 "cells": [
  {
   "metadata": {},
   "cell_type": "markdown",
   "source": [
    "# Compression and Entropy\n",
    "## Introduction\n",
    "In this notebook, we will explore how compression and entropy are related. We will use the `zlib` library to compress data and the `entropy` function from the `scipy` library to calculate the entropy of the data."
   ],
   "id": "16ec2b4fd1127001"
  },
  {
   "cell_type": "code",
   "id": "initial_id",
   "metadata": {
    "collapsed": true,
    "ExecuteTime": {
     "end_time": "2024-11-24T18:23:12.548731Z",
     "start_time": "2024-11-24T18:23:12.542645Z"
    }
   },
   "source": [
    "import math\n",
    "from pathlib import Path\n",
    "import time\n",
    "import zlib\n",
    "import pandas as pd\n",
    "import matplotlib.pyplot as plt\n",
    "from collections import Counter\n",
    "import seaborn as sns\n",
    "\n",
    "sns.set_theme(style=\"whitegrid\")\n"
   ],
   "outputs": [],
   "execution_count": 26
  },
  {
   "metadata": {
    "ExecuteTime": {
     "end_time": "2024-11-24T18:23:12.947694Z",
     "start_time": "2024-11-24T18:23:12.934032Z"
    }
   },
   "cell_type": "code",
   "source": [
    "sample_dir = Path(\"samples/entropy\")\n",
    "files = [f for f in sample_dir.iterdir() if f.is_file()]\n",
    "\n",
    "def read_file_content(file_path: Path) -> bytes:\n",
    "    return file_path.read_bytes()"
   ],
   "id": "e540194768f26937",
   "outputs": [],
   "execution_count": 27
  },
  {
   "metadata": {
    "ExecuteTime": {
     "end_time": "2024-11-24T18:23:13.272798Z",
     "start_time": "2024-11-24T18:23:13.265422Z"
    }
   },
   "cell_type": "code",
   "source": [
    "# LZ77 compression\n",
    "\n",
    "def compress_lz77(data: bytes) -> bytes:\n",
    "    return zlib.compress(data)\n",
    "\n",
    "def decompress_lz77(data: bytes) -> bytes:\n",
    "    return zlib.decompress(data)"
   ],
   "id": "c0dfe4b3804b8c34",
   "outputs": [],
   "execution_count": 28
  },
  {
   "metadata": {},
   "cell_type": "markdown",
   "source": [
    "### Shannon Entropy Formula\n",
    "\n",
    "The Shannon entropy formula is:\n",
    "\n",
    "$$\n",
    "H(X) = - \\sum_{i=1}^{n} p(x_i) \\cdot \\log_2(p(x_i))\n",
    "$$\n",
    "\n",
    "Where $p(x_i)$ is the probability of the $i$-th byte occurring in the data.\n"
   ],
   "id": "cb0e8591a6806979"
  },
  {
   "metadata": {
    "ExecuteTime": {
     "end_time": "2024-11-24T18:23:13.951647Z",
     "start_time": "2024-11-24T18:23:13.935506Z"
    }
   },
   "cell_type": "code",
   "source": [
    "def calculate_entropy(data: bytes) -> float:\n",
    "    # Count the frequency of each byte\n",
    "    byte_counts = Counter(data)\n",
    "    total_bytes = len(data)\n",
    "    \n",
    "    entropy = 0\n",
    "    for count in byte_counts.values():\n",
    "        probability = count / total_bytes\n",
    "        entropy -= probability * math.log2(probability)\n",
    "        \n",
    "    return entropy"
   ],
   "id": "c59c6144aca3f763",
   "outputs": [],
   "execution_count": 29
  },
  {
   "metadata": {
    "ExecuteTime": {
     "end_time": "2024-11-24T18:23:14.353782Z",
     "start_time": "2024-11-24T18:23:14.254244Z"
    }
   },
   "cell_type": "code",
   "source": [
    "results = []\n",
    "\n",
    "for file_path in files:\n",
    "    data = read_file_content(file_path)\n",
    "    original_size = len(data)\n",
    "    file_name = file_path.name\n",
    "    entropy = calculate_entropy(data)\n",
    "    \n",
    "    algorithms = [\n",
    "        (\"LZ77\", compress_lz77, decompress_lz77),\n",
    "    ]\n",
    "\n",
    "    for algorithm_name, compress_func, decompress_func in algorithms:\n",
    "        start_time = time.perf_counter()\n",
    "        compressed_data = compress_func(data)\n",
    "        compression_time = time.perf_counter() - start_time\n",
    "\n",
    "        compressed_size = len(compressed_data)\n",
    "        compression_ratio = original_size / compressed_size\n",
    "\n",
    "        start_time = time.perf_counter()\n",
    "        decompressed_data = decompress_func(compressed_data)\n",
    "        decompression_time = time.perf_counter() - start_time\n",
    "\n",
    "        results.append({\n",
    "            \"file\": file_name,\n",
    "            \"algorithm\": algorithm_name,\n",
    "            \"original size (bytes)\": original_size,\n",
    "            \"compressed size (bytes)\": compressed_size,\n",
    "            \"compression ratio\": compression_ratio,\n",
    "            \"compression time (seconds)\": compression_time,\n",
    "            \"decompression time (seconds)\": decompression_time,\n",
    "            \"entropy (bits/symbol)\": entropy\n",
    "        })"
   ],
   "id": "243ff6020560565a",
   "outputs": [],
   "execution_count": 30
  },
  {
   "metadata": {
    "ExecuteTime": {
     "end_time": "2024-11-24T18:23:14.534300Z",
     "start_time": "2024-11-24T18:23:14.515626Z"
    }
   },
   "cell_type": "code",
   "source": [
    "df = pd.DataFrame(results)\n",
    "df"
   ],
   "id": "a815bee778426940",
   "outputs": [
    {
     "data": {
      "text/plain": [
       "                   file algorithm  original size (bytes)  \\\n",
       "0                 a.txt      LZ77                      1   \n",
       "1               aaa.txt      LZ77                 100000   \n",
       "2          alphabet.txt      LZ77                 100000   \n",
       "3  encrypted_random.txt      LZ77                 100032   \n",
       "4          mobydick.txt      LZ77                 646431   \n",
       "5            random.txt      LZ77                 100000   \n",
       "\n",
       "   compressed size (bytes)  compression ratio  compression time (seconds)  \\\n",
       "0                        9           0.111111                    0.000271   \n",
       "1                      121         826.446281                    0.000448   \n",
       "2                      290         344.827586                    0.000445   \n",
       "3                   100073           0.999590                    0.002287   \n",
       "4                   263147           2.456540                    0.035118   \n",
       "5                    75200           1.329787                    0.003162   \n",
       "\n",
       "   decompression time (seconds)  entropy (bits/symbol)  \n",
       "0                      0.000104               0.000000  \n",
       "1                      0.000069               0.000000  \n",
       "2                      0.000097               4.700440  \n",
       "3                      0.000033               7.998249  \n",
       "4                      0.002234               4.590077  \n",
       "5                      0.000328               5.953941  "
      ],
      "text/html": [
       "<div>\n",
       "<style scoped>\n",
       "    .dataframe tbody tr th:only-of-type {\n",
       "        vertical-align: middle;\n",
       "    }\n",
       "\n",
       "    .dataframe tbody tr th {\n",
       "        vertical-align: top;\n",
       "    }\n",
       "\n",
       "    .dataframe thead th {\n",
       "        text-align: right;\n",
       "    }\n",
       "</style>\n",
       "<table border=\"1\" class=\"dataframe\">\n",
       "  <thead>\n",
       "    <tr style=\"text-align: right;\">\n",
       "      <th></th>\n",
       "      <th>file</th>\n",
       "      <th>algorithm</th>\n",
       "      <th>original size (bytes)</th>\n",
       "      <th>compressed size (bytes)</th>\n",
       "      <th>compression ratio</th>\n",
       "      <th>compression time (seconds)</th>\n",
       "      <th>decompression time (seconds)</th>\n",
       "      <th>entropy (bits/symbol)</th>\n",
       "    </tr>\n",
       "  </thead>\n",
       "  <tbody>\n",
       "    <tr>\n",
       "      <th>0</th>\n",
       "      <td>a.txt</td>\n",
       "      <td>LZ77</td>\n",
       "      <td>1</td>\n",
       "      <td>9</td>\n",
       "      <td>0.111111</td>\n",
       "      <td>0.000271</td>\n",
       "      <td>0.000104</td>\n",
       "      <td>0.000000</td>\n",
       "    </tr>\n",
       "    <tr>\n",
       "      <th>1</th>\n",
       "      <td>aaa.txt</td>\n",
       "      <td>LZ77</td>\n",
       "      <td>100000</td>\n",
       "      <td>121</td>\n",
       "      <td>826.446281</td>\n",
       "      <td>0.000448</td>\n",
       "      <td>0.000069</td>\n",
       "      <td>0.000000</td>\n",
       "    </tr>\n",
       "    <tr>\n",
       "      <th>2</th>\n",
       "      <td>alphabet.txt</td>\n",
       "      <td>LZ77</td>\n",
       "      <td>100000</td>\n",
       "      <td>290</td>\n",
       "      <td>344.827586</td>\n",
       "      <td>0.000445</td>\n",
       "      <td>0.000097</td>\n",
       "      <td>4.700440</td>\n",
       "    </tr>\n",
       "    <tr>\n",
       "      <th>3</th>\n",
       "      <td>encrypted_random.txt</td>\n",
       "      <td>LZ77</td>\n",
       "      <td>100032</td>\n",
       "      <td>100073</td>\n",
       "      <td>0.999590</td>\n",
       "      <td>0.002287</td>\n",
       "      <td>0.000033</td>\n",
       "      <td>7.998249</td>\n",
       "    </tr>\n",
       "    <tr>\n",
       "      <th>4</th>\n",
       "      <td>mobydick.txt</td>\n",
       "      <td>LZ77</td>\n",
       "      <td>646431</td>\n",
       "      <td>263147</td>\n",
       "      <td>2.456540</td>\n",
       "      <td>0.035118</td>\n",
       "      <td>0.002234</td>\n",
       "      <td>4.590077</td>\n",
       "    </tr>\n",
       "    <tr>\n",
       "      <th>5</th>\n",
       "      <td>random.txt</td>\n",
       "      <td>LZ77</td>\n",
       "      <td>100000</td>\n",
       "      <td>75200</td>\n",
       "      <td>1.329787</td>\n",
       "      <td>0.003162</td>\n",
       "      <td>0.000328</td>\n",
       "      <td>5.953941</td>\n",
       "    </tr>\n",
       "  </tbody>\n",
       "</table>\n",
       "</div>"
      ]
     },
     "execution_count": 31,
     "metadata": {},
     "output_type": "execute_result"
    }
   ],
   "execution_count": 31
  },
  {
   "metadata": {
    "ExecuteTime": {
     "end_time": "2024-11-24T18:23:17.038919Z",
     "start_time": "2024-11-24T18:23:17.030271Z"
    }
   },
   "cell_type": "code",
   "source": "# TODO: add plots here",
   "id": "e4d5d7a1d5f404b6",
   "outputs": [],
   "execution_count": 32
  }
 ],
 "metadata": {
  "kernelspec": {
   "display_name": "Python 3",
   "language": "python",
   "name": "python3"
  },
  "language_info": {
   "codemirror_mode": {
    "name": "ipython",
    "version": 2
   },
   "file_extension": ".py",
   "mimetype": "text/x-python",
   "name": "python",
   "nbconvert_exporter": "python",
   "pygments_lexer": "ipython2",
   "version": "2.7.6"
  }
 },
 "nbformat": 4,
 "nbformat_minor": 5
}
