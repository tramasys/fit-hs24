{
 "cells": [
  {
   "metadata": {},
   "cell_type": "markdown",
   "source": [
    "# Compression and Entropy\n",
    "## Introduction\n",
    "In this notebook, we will explore how compression and entropy are related. We will use the `zlib` library to compress data using the LZ77 algorithm and calculate the entropy of the data. We will then compare the compression ratio with the entropy of the data.\n",
    "<br>\n",
    "https://corpus.canterbury.ac.nz/descriptions/\n"
   ],
   "id": "16ec2b4fd1127001"
  },
  {
   "cell_type": "code",
   "id": "initial_id",
   "metadata": {
    "collapsed": true,
    "ExecuteTime": {
     "end_time": "2024-11-27T10:11:05.710806Z",
     "start_time": "2024-11-27T10:11:05.705278Z"
    }
   },
   "source": [
    "import math\n",
    "from pathlib import Path\n",
    "import time\n",
    "import zlib\n",
    "import pandas as pd\n",
    "import matplotlib.pyplot as plt\n",
    "from collections import Counter\n",
    "import seaborn as sns\n",
    "\n",
    "sns.set_theme(style=\"whitegrid\")\n"
   ],
   "outputs": [],
   "execution_count": 47
  },
  {
   "metadata": {
    "ExecuteTime": {
     "end_time": "2024-11-27T10:11:05.765381Z",
     "start_time": "2024-11-27T10:11:05.721312Z"
    }
   },
   "cell_type": "code",
   "source": [
    "sample_dir = Path(\"samples/entropy\")\n",
    "files = [f for f in sample_dir.iterdir() if f.is_file()]\n",
    "\n",
    "def read_file_content(file_path: Path) -> bytes:\n",
    "    return file_path.read_bytes()"
   ],
   "id": "e540194768f26937",
   "outputs": [],
   "execution_count": 48
  },
  {
   "metadata": {
    "ExecuteTime": {
     "end_time": "2024-11-27T10:11:05.782052Z",
     "start_time": "2024-11-27T10:11:05.776870Z"
    }
   },
   "cell_type": "code",
   "source": [
    "# LZ77 compression and decompression\n",
    "\n",
    "def compress_lz77(data: bytes) -> bytes:\n",
    "    return zlib.compress(data)\n",
    "\n",
    "def decompress_lz77(data: bytes) -> bytes:\n",
    "    return zlib.decompress(data)"
   ],
   "id": "c0dfe4b3804b8c34",
   "outputs": [],
   "execution_count": 49
  },
  {
   "metadata": {},
   "cell_type": "markdown",
   "source": [
    "### Shannon Entropy Formula\n",
    "\n",
    "The Shannon entropy formula is:\n",
    "\n",
    "$$\n",
    "H(X) = - \\sum_{i=1}^{n} p(x_i) \\cdot \\log_2(p(x_i))\n",
    "$$\n",
    "\n",
    "Where $p(x_i)$ is the probability of the $i$-th byte occurring in the data.\n"
   ],
   "id": "cb0e8591a6806979"
  },
  {
   "metadata": {
    "ExecuteTime": {
     "end_time": "2024-11-27T10:11:05.798264Z",
     "start_time": "2024-11-27T10:11:05.792620Z"
    }
   },
   "cell_type": "code",
   "source": [
    "def calculate_entropy(data: bytes) -> float:\n",
    "    # Count the frequency of each byte\n",
    "    byte_counts = Counter(data)\n",
    "    total_bytes = len(data)\n",
    "    \n",
    "    entropy = 0\n",
    "    for count in byte_counts.values():\n",
    "        probability = count / total_bytes\n",
    "        entropy -= probability * math.log2(probability)\n",
    "        \n",
    "    return entropy"
   ],
   "id": "c59c6144aca3f763",
   "outputs": [],
   "execution_count": 50
  },
  {
   "metadata": {
    "ExecuteTime": {
     "end_time": "2024-11-27T10:11:16.998076Z",
     "start_time": "2024-11-27T10:11:05.809571Z"
    }
   },
   "cell_type": "code",
   "source": [
    "results = []\n",
    "\n",
    "for file_path in files:\n",
    "    data = read_file_content(file_path)\n",
    "    original_size = len(data)\n",
    "    file_name = file_path.name\n",
    "    entropy = calculate_entropy(data)\n",
    "    \n",
    "    algorithms = [\n",
    "        (\"LZ77\", compress_lz77, decompress_lz77),\n",
    "    ]\n",
    "\n",
    "    for algorithm_name, compress_func, decompress_func in algorithms:\n",
    "        start_time = time.perf_counter()\n",
    "        compressed_data = compress_func(data)\n",
    "        compression_time = time.perf_counter() - start_time\n",
    "\n",
    "        compressed_size = len(compressed_data)\n",
    "        compression_ratio = original_size / compressed_size\n",
    "\n",
    "        start_time = time.perf_counter()\n",
    "        decompressed_data = decompress_func(compressed_data)\n",
    "        decompression_time = time.perf_counter() - start_time\n",
    "\n",
    "        results.append({\n",
    "            \"file\": file_name,\n",
    "            \"algorithm\": algorithm_name,\n",
    "            \"original size (bytes)\": original_size,\n",
    "            \"compressed size (bytes)\": compressed_size,\n",
    "            \"compression ratio\": compression_ratio,\n",
    "            \"compression time (seconds)\": compression_time,\n",
    "            \"decompression time (seconds)\": decompression_time,\n",
    "            \"entropy (bits/symbol)\": entropy\n",
    "        })"
   ],
   "id": "243ff6020560565a",
   "outputs": [],
   "execution_count": 51
  },
  {
   "metadata": {
    "ExecuteTime": {
     "end_time": "2024-11-27T10:11:17.020039Z",
     "start_time": "2024-11-27T10:11:17.007218Z"
    }
   },
   "cell_type": "code",
   "source": [
    "df = pd.DataFrame(results)\n",
    "df"
   ],
   "id": "a815bee778426940",
   "outputs": [
    {
     "data": {
      "text/plain": [
       "                                file algorithm  original size (bytes)  \\\n",
       "0     encrypted_file_000_entropy.txt      LZ77                 100032   \n",
       "1     encrypted_file_010_entropy.txt      LZ77                 100032   \n",
       "2     encrypted_file_020_entropy.txt      LZ77                 100032   \n",
       "3     encrypted_file_030_entropy.txt      LZ77                 100032   \n",
       "4     encrypted_file_040_entropy.txt      LZ77                 100032   \n",
       "...                              ...       ...                    ...   \n",
       "1095            file_995_entropy.txt      LZ77                 100000   \n",
       "1096            file_996_entropy.txt      LZ77                 100000   \n",
       "1097            file_997_entropy.txt      LZ77                 100000   \n",
       "1098            file_998_entropy.txt      LZ77                 100000   \n",
       "1099            file_999_entropy.txt      LZ77                 100000   \n",
       "\n",
       "      compressed size (bytes)  compression ratio  compression time (seconds)  \\\n",
       "0                      100073           0.999590                    0.002376   \n",
       "1                      100073           0.999590                    0.002223   \n",
       "2                      100073           0.999590                    0.002159   \n",
       "3                      100073           0.999590                    0.002832   \n",
       "4                      100073           0.999590                    0.002440   \n",
       "...                       ...                ...                         ...   \n",
       "1095                    75206           1.329681                    0.003508   \n",
       "1096                    75199           1.329805                    0.003142   \n",
       "1097                    75203           1.329734                    0.003372   \n",
       "1098                    75188           1.329999                    0.003261   \n",
       "1099                    75193           1.329911                    0.003257   \n",
       "\n",
       "      decompression time (seconds)  entropy (bits/symbol)  \n",
       "0                         0.000050               7.998140  \n",
       "1                         0.000031               7.997884  \n",
       "2                         0.000030               7.998498  \n",
       "3                         0.000042               7.998002  \n",
       "4                         0.000036               7.998138  \n",
       "...                            ...                    ...  \n",
       "1095                      0.000311               5.953822  \n",
       "1096                      0.000311               5.953915  \n",
       "1097                      0.000320               5.953695  \n",
       "1098                      0.000320               5.953621  \n",
       "1099                      0.000326               5.953705  \n",
       "\n",
       "[1100 rows x 8 columns]"
      ],
      "text/html": [
       "<div>\n",
       "<style scoped>\n",
       "    .dataframe tbody tr th:only-of-type {\n",
       "        vertical-align: middle;\n",
       "    }\n",
       "\n",
       "    .dataframe tbody tr th {\n",
       "        vertical-align: top;\n",
       "    }\n",
       "\n",
       "    .dataframe thead th {\n",
       "        text-align: right;\n",
       "    }\n",
       "</style>\n",
       "<table border=\"1\" class=\"dataframe\">\n",
       "  <thead>\n",
       "    <tr style=\"text-align: right;\">\n",
       "      <th></th>\n",
       "      <th>file</th>\n",
       "      <th>algorithm</th>\n",
       "      <th>original size (bytes)</th>\n",
       "      <th>compressed size (bytes)</th>\n",
       "      <th>compression ratio</th>\n",
       "      <th>compression time (seconds)</th>\n",
       "      <th>decompression time (seconds)</th>\n",
       "      <th>entropy (bits/symbol)</th>\n",
       "    </tr>\n",
       "  </thead>\n",
       "  <tbody>\n",
       "    <tr>\n",
       "      <th>0</th>\n",
       "      <td>encrypted_file_000_entropy.txt</td>\n",
       "      <td>LZ77</td>\n",
       "      <td>100032</td>\n",
       "      <td>100073</td>\n",
       "      <td>0.999590</td>\n",
       "      <td>0.002376</td>\n",
       "      <td>0.000050</td>\n",
       "      <td>7.998140</td>\n",
       "    </tr>\n",
       "    <tr>\n",
       "      <th>1</th>\n",
       "      <td>encrypted_file_010_entropy.txt</td>\n",
       "      <td>LZ77</td>\n",
       "      <td>100032</td>\n",
       "      <td>100073</td>\n",
       "      <td>0.999590</td>\n",
       "      <td>0.002223</td>\n",
       "      <td>0.000031</td>\n",
       "      <td>7.997884</td>\n",
       "    </tr>\n",
       "    <tr>\n",
       "      <th>2</th>\n",
       "      <td>encrypted_file_020_entropy.txt</td>\n",
       "      <td>LZ77</td>\n",
       "      <td>100032</td>\n",
       "      <td>100073</td>\n",
       "      <td>0.999590</td>\n",
       "      <td>0.002159</td>\n",
       "      <td>0.000030</td>\n",
       "      <td>7.998498</td>\n",
       "    </tr>\n",
       "    <tr>\n",
       "      <th>3</th>\n",
       "      <td>encrypted_file_030_entropy.txt</td>\n",
       "      <td>LZ77</td>\n",
       "      <td>100032</td>\n",
       "      <td>100073</td>\n",
       "      <td>0.999590</td>\n",
       "      <td>0.002832</td>\n",
       "      <td>0.000042</td>\n",
       "      <td>7.998002</td>\n",
       "    </tr>\n",
       "    <tr>\n",
       "      <th>4</th>\n",
       "      <td>encrypted_file_040_entropy.txt</td>\n",
       "      <td>LZ77</td>\n",
       "      <td>100032</td>\n",
       "      <td>100073</td>\n",
       "      <td>0.999590</td>\n",
       "      <td>0.002440</td>\n",
       "      <td>0.000036</td>\n",
       "      <td>7.998138</td>\n",
       "    </tr>\n",
       "    <tr>\n",
       "      <th>...</th>\n",
       "      <td>...</td>\n",
       "      <td>...</td>\n",
       "      <td>...</td>\n",
       "      <td>...</td>\n",
       "      <td>...</td>\n",
       "      <td>...</td>\n",
       "      <td>...</td>\n",
       "      <td>...</td>\n",
       "    </tr>\n",
       "    <tr>\n",
       "      <th>1095</th>\n",
       "      <td>file_995_entropy.txt</td>\n",
       "      <td>LZ77</td>\n",
       "      <td>100000</td>\n",
       "      <td>75206</td>\n",
       "      <td>1.329681</td>\n",
       "      <td>0.003508</td>\n",
       "      <td>0.000311</td>\n",
       "      <td>5.953822</td>\n",
       "    </tr>\n",
       "    <tr>\n",
       "      <th>1096</th>\n",
       "      <td>file_996_entropy.txt</td>\n",
       "      <td>LZ77</td>\n",
       "      <td>100000</td>\n",
       "      <td>75199</td>\n",
       "      <td>1.329805</td>\n",
       "      <td>0.003142</td>\n",
       "      <td>0.000311</td>\n",
       "      <td>5.953915</td>\n",
       "    </tr>\n",
       "    <tr>\n",
       "      <th>1097</th>\n",
       "      <td>file_997_entropy.txt</td>\n",
       "      <td>LZ77</td>\n",
       "      <td>100000</td>\n",
       "      <td>75203</td>\n",
       "      <td>1.329734</td>\n",
       "      <td>0.003372</td>\n",
       "      <td>0.000320</td>\n",
       "      <td>5.953695</td>\n",
       "    </tr>\n",
       "    <tr>\n",
       "      <th>1098</th>\n",
       "      <td>file_998_entropy.txt</td>\n",
       "      <td>LZ77</td>\n",
       "      <td>100000</td>\n",
       "      <td>75188</td>\n",
       "      <td>1.329999</td>\n",
       "      <td>0.003261</td>\n",
       "      <td>0.000320</td>\n",
       "      <td>5.953621</td>\n",
       "    </tr>\n",
       "    <tr>\n",
       "      <th>1099</th>\n",
       "      <td>file_999_entropy.txt</td>\n",
       "      <td>LZ77</td>\n",
       "      <td>100000</td>\n",
       "      <td>75193</td>\n",
       "      <td>1.329911</td>\n",
       "      <td>0.003257</td>\n",
       "      <td>0.000326</td>\n",
       "      <td>5.953705</td>\n",
       "    </tr>\n",
       "  </tbody>\n",
       "</table>\n",
       "<p>1100 rows × 8 columns</p>\n",
       "</div>"
      ]
     },
     "execution_count": 52,
     "metadata": {},
     "output_type": "execute_result"
    }
   ],
   "execution_count": 52
  },
  {
   "metadata": {
    "ExecuteTime": {
     "end_time": "2024-11-27T10:11:17.260680Z",
     "start_time": "2024-11-27T10:11:17.056955Z"
    }
   },
   "cell_type": "code",
   "source": [
    "plt.figure(figsize=(12, 6))\n",
    "sns.scatterplot(data=df, x=\"entropy (bits/symbol)\", y=\"compression ratio\", hue=\"file\", style=\"algorithm\", s=100, legend=False)\n",
    "plt.title(\"Entropy vs Compression Ratio\")\n",
    "plt.xlabel(\"Entropy (bits/symbol)\")\n",
    "plt.ylabel(\"Compression Ratio\")\n",
    "plt.tight_layout()\n",
    "plt.show()"
   ],
   "id": "e4d5d7a1d5f404b6",
   "outputs": [
    {
     "data": {
      "text/plain": [
       "<Figure size 1200x600 with 1 Axes>"
      ],
      "image/png": "[encoded data removed]"
     },
     "metadata": {},
     "output_type": "display_data"
    }
   ],
   "execution_count": 53
  },
  {
   "metadata": {
    "ExecuteTime": {
     "end_time": "2024-11-27T10:11:17.286726Z",
     "start_time": "2024-11-27T10:11:17.283316Z"
    }
   },
   "cell_type": "code",
   "source": "",
   "id": "ebab76f66606152d",
   "outputs": [],
   "execution_count": null
  }
 ],
 "metadata": {
  "kernelspec": {
   "display_name": "Python 3",
   "language": "python",
   "name": "python3"
  },
  "language_info": {
   "codemirror_mode": {
    "name": "ipython",
    "version": 2
   },
   "file_extension": ".py",
   "mimetype": "text/x-python",
   "name": "python",
   "nbconvert_exporter": "python",
   "pygments_lexer": "ipython2",
   "version": "2.7.6"
  }
 },
 "nbformat": 4,
 "nbformat_minor": 5
}
